{
  "nbformat": 4,
  "nbformat_minor": 0,
  "metadata": {
    "colab": {
      "provenance": []
    },
    "kernelspec": {
      "name": "python3",
      "display_name": "Python 3"
    },
    "language_info": {
      "name": "python"
    }
  },
  "cells": [
    {
      "cell_type": "markdown",
      "source": [
        "# NEW lematizaion"
      ],
      "metadata": {
        "id": "s5DYxMxcB00t"
      }
    },
    {
      "cell_type": "code",
      "source": [
        "import os\n",
        "import re\n",
        "import PyPDF2\n",
        "\n",
        "skill_lemma_dict = {\n",
        "    \"reactjs\": [\"react.js\", \"react js\", \"react\"],\n",
        "    \"python\": [\"python\", \"py\"],\n",
        "    \"java\": [\"java\"],\n",
        "    \"cpp\": [\"c++\", \"c programing\", \"c\"],\n",
        "    \"sql\": [\"mysql\", \"sql\", \"postgresql\"]\n",
        "}\n",
        "\n",
        "def custom_lemmatizer(text, lemma_dict):\n",
        "    tokens = re.findall(r'\\b\\w+\\b', text)  # Tokenize text while handling punctuation\n",
        "    lemmatized_tokens = []\n",
        "    for token in tokens:\n",
        "        found = False\n",
        "        for key, val in lemma_dict.items():\n",
        "            if token.lower() in val:\n",
        "                lemmatized_tokens.append(key)\n",
        "                found = True\n",
        "                break\n",
        "        if not found:\n",
        "            lemmatized_tokens.append(token)\n",
        "    return lemmatized_tokens\n",
        "\n",
        "def extract_text_from_pdf(file_path):\n",
        "    with open(file_path, 'rb') as file:\n",
        "        reader = PyPDF2.PdfReader(file)\n",
        "        text = ''\n",
        "        for page in reader.pages:\n",
        "            text += page.extract_text()\n",
        "    return text\n",
        "\n",
        "def clean_function(resumeText):\n",
        "    resumeText = re.sub('http\\S+\\s*', ' ', resumeText)  # remove URLs\n",
        "    resumeText = re.sub('RT|cc', ' ', resumeText)  # remove RT and cc\n",
        "    resumeText = re.sub('#\\S+', '', resumeText)  # remove hashtags\n",
        "    resumeText = re.sub('@\\S+', '  ', resumeText)  # remove mentions\n",
        "    resumeText = re.sub('[%s]' % re.escape(\"\"\"!\"#$%&'()*+,-./:;<=>?@[\\]^_`{|}~\"\"\"), ' ', resumeText)  # remove punctuations\n",
        "    resumeText = re.sub(r'[^\\x00-\\x7f]', r' ', resumeText)\n",
        "    resumeText = re.sub('\\s+', ' ', resumeText)  # remove extra whitespace\n",
        "    return resumeText\n",
        "\n",
        "def process_resume(resume_path, job_skills):\n",
        "    resume_text = extract_text_from_pdf(resume_path)\n",
        "    cleaned_resume_text = clean_function(resume_text.lower())\n",
        "    lemmatized_tokens = custom_lemmatizer(cleaned_resume_text, skill_lemma_dict)\n",
        "    lemmatized_tokens = list(set(lemmatized_tokens))\n",
        "    matching_skills = set(lemmatized_tokens).intersection(job_skills)\n",
        "    num_matching_skills = len(matching_skills)\n",
        "    resume_score = (num_matching_skills / len(job_skills)) * 100\n",
        "    return resume_score\n",
        "\n",
        "def process_resumes_in_folder(resume_folder, job_skills, output_folder):\n",
        "    if not os.path.exists(output_folder):\n",
        "        os.makedirs(output_folder)\n",
        "\n",
        "    for filename in os.listdir(resume_folder):\n",
        "        if filename.endswith(\".pdf\"):\n",
        "            resume_path = os.path.join(resume_folder, filename)\n",
        "            resume_score = process_resume(resume_path, job_skills)\n",
        "\n",
        "            # Specify the threshold for selecting resumes\n",
        "            threshold = 50  # Adjust as needed\n",
        "\n",
        "            if resume_score >= threshold:\n",
        "                selected_resume_path = os.path.join(output_folder, filename.replace(\".pdf\", f\"_score_{resume_score:.2f}.txt\"))\n",
        "                with open(selected_resume_path, 'w', encoding='utf-8') as output_file:\n",
        "                    output_file.write(f\"Resume Score: {resume_score:.2f}%\\n\\n\")\n",
        "                    output_file.write(extract_text_from_pdf(resume_path))\n",
        "\n",
        "    print(\"Resumes processed and selected ones saved in:\", output_folder)\n",
        "\n",
        "# Specify paths and job skills\n",
        "resume_folder_path = \"/content/my resume\"\n",
        "output_folder_path = \"/content/Output\"\n",
        "job_skills = [\"reactjs\", \"python\", \"java\", \"sql\", \"azur\", \"aws\"]\n",
        "\n",
        "# Process resumes in the specified folder\n",
        "process_resumes_in_folder(resume_folder_path, job_skills, output_folder_path)\n"
      ],
      "metadata": {
        "colab": {
          "base_uri": "https://localhost:8080/"
        },
        "id": "fX-dQbzmB3Eg",
        "outputId": "5f04fa2c-766f-4156-aad6-1fb61de9c698"
      },
      "execution_count": 4,
      "outputs": [
        {
          "output_type": "stream",
          "name": "stdout",
          "text": [
            "Resumes processed and selected ones saved in: /content/Output\n"
          ]
        }
      ]
    },
    {
      "cell_type": "markdown",
      "source": [
        "# Cosine"
      ],
      "metadata": {
        "id": "WOLPXivLDlwY"
      }
    },
    {
      "cell_type": "code",
      "source": [
        "import os\n",
        "from sklearn.feature_extraction.text import CountVectorizer\n",
        "from sklearn.metrics.pairwise import cosine_similarity\n",
        "\n",
        "def calculate_cosine_similarity(job_description, resume):\n",
        "    # Convert job description and resume into a list\n",
        "    documents = [job_description, resume]\n",
        "\n",
        "    # Initialize CountVectorizer to convert text into a bag of words\n",
        "    vectorizer = CountVectorizer()\n",
        "\n",
        "    # Fit and transform the documents into a matrix of token counts\n",
        "    matrix = vectorizer.fit_transform(documents)\n",
        "\n",
        "    # Compute cosine similarity between job description and resume\n",
        "    cos_sim = cosine_similarity(matrix)\n",
        "\n",
        "    # Extract cosine similarity value for job description and resume\n",
        "    job_resume_similarity = cos_sim[0, 1]\n",
        "\n",
        "    return job_resume_similarity\n",
        "\n",
        "def process_resume_in_folder(resume_folder, job_description, output_folder):\n",
        "    if not os.path.exists(output_folder):\n",
        "        os.makedirs(output_folder)\n",
        "\n",
        "    for filename in os.listdir(resume_folder):\n",
        "        if filename.endswith(\".txt\"):  # Assuming resumes are in text files\n",
        "            resume_path = os.path.join(resume_folder, filename)\n",
        "            with open(resume_path, 'r', encoding='utf-8') as resume_file:\n",
        "                resume_text = resume_file.read()\n",
        "\n",
        "            resume_score = calculate_cosine_similarity(job_description, resume_text)\n",
        "\n",
        "            # Specify the threshold for selecting resumes\n",
        "            threshold = 0.8  # Adjust as needed\n",
        "\n",
        "            if resume_score >= threshold:\n",
        "                selected_resume_path = os.path.join(output_folder, filename.replace(\".txt\", f\"_score_{resume_score:.2f}.txt\"))\n",
        "                with open(selected_resume_path, 'w', encoding='utf-8') as output_file:\n",
        "                    output_file.write(f\"Resume Score: {resume_score:.2f}\\n\\n\")\n",
        "                    output_file.write(resume_text)\n",
        "\n",
        "    print(\"Resumes processed and selected ones saved in:\", output_folder)\n",
        "\n",
        "# Specify paths and job description\n",
        "resume_folder_path = \"path/to/resumes/folder\"\n",
        "output_folder_path = \"path/to/output/folder\"\n",
        "job_description = \"Looking for a software engineer proficient in Python and machine learning\"\n",
        "\n",
        "# Process resumes in the specified folder\n",
        "process_resume_in_folder(resume_folder_path, job_description, output_folder_path)\n"
      ],
      "metadata": {
        "id": "U3ksJanbCYKI"
      },
      "execution_count": null,
      "outputs": []
    },
    {
      "cell_type": "markdown",
      "source": [
        "# Jaccard Similarity"
      ],
      "metadata": {
        "id": "OWJmdyKyFdUX"
      }
    },
    {
      "cell_type": "code",
      "source": [
        "import os\n",
        "from sklearn.feature_extraction.text import CountVectorizer\n",
        "from sklearn.metrics import jaccard_similarity_score\n",
        "\n",
        "def calculate_jaccard_similarity(job_description, resume):\n",
        "    # Convert job description and resume into a list\n",
        "    documents = [job_description, resume]\n",
        "\n",
        "    # Initialize CountVectorizer to convert text into a bag of words\n",
        "    vectorizer = CountVectorizer()\n",
        "\n",
        "    # Fit and transform the documents into a matrix of token counts\n",
        "    matrix = vectorizer.fit_transform(documents).toarray()\n",
        "\n",
        "    # Compute Jaccard similarity between job description and resume\n",
        "    jaccard_sim = jaccard_similarity_score(matrix[0], matrix[1])\n",
        "\n",
        "    return jaccard_sim\n",
        "\n",
        "def process_resume_in_folder(resume_folder, job_description, output_folder):\n",
        "    if not os.path.exists(output_folder):\n",
        "        os.makedirs(output_folder)\n",
        "\n",
        "    for filename in os.listdir(resume_folder):\n",
        "        if filename.endswith(\".txt\"):  # Assuming resumes are in text files\n",
        "            resume_path = os.path.join(resume_folder, filename)\n",
        "            with open(resume_path, 'r', encoding='utf-8') as resume_file:\n",
        "                resume_text = resume_file.read()\n",
        "\n",
        "            resume_score = calculate_jaccard_similarity(job_description, resume_text)\n",
        "\n",
        "            # Specify the threshold for selecting resumes\n",
        "            threshold = 0.5  # Adjust as needed\n",
        "\n",
        "            if resume_score >= threshold:\n",
        "                selected_resume_path = os.path.join(output_folder, filename.replace(\".txt\", f\"_score_{resume_score:.2f}.txt\"))\n",
        "                with open(selected_resume_path, 'w', encoding='utf-8') as output_file:\n",
        "                    output_file.write(f\"Resume Score: {resume_score:.2f}\\n\\n\")\n",
        "                    output_file.write(resume_text)\n",
        "\n",
        "    print(\"Resumes processed and selected ones saved in:\", output_folder)\n",
        "\n",
        "# Specify paths and job description\n",
        "resume_folder_path = \"path/to/resumes/folder\"\n",
        "output_folder_path = \"path/to/output/folder\"\n",
        "job_description = \"Looking for a software engineer proficient in Python and machine learning\"\n",
        "\n",
        "# Process resumes in the specified folder\n",
        "process_resume_in_folder(resume_folder_path, job_description, output_folder_path)\n"
      ],
      "metadata": {
        "id": "4kbg3D-JFebG"
      },
      "execution_count": null,
      "outputs": []
    },
    {
      "cell_type": "markdown",
      "source": [
        "Euclidean Distance"
      ],
      "metadata": {
        "id": "H5iduQZfFtt_"
      }
    },
    {
      "cell_type": "code",
      "source": [
        "import os\n",
        "from sklearn.feature_extraction.text import CountVectorizer\n",
        "from sklearn.metrics.pairwise import euclidean_distances\n",
        "\n",
        "def calculate_euclidean_distance(job_description, resume):\n",
        "    # Convert job description and resume into a list\n",
        "    documents = [job_description, resume]\n",
        "\n",
        "    # Initialize CountVectorizer to convert text into a bag of words\n",
        "    vectorizer = CountVectorizer()\n",
        "\n",
        "    # Fit and transform the documents into a matrix of token counts\n",
        "    matrix = vectorizer.fit_transform(documents).toarray()\n",
        "\n",
        "    # Compute Euclidean distance between job description and resume\n",
        "    euclidean_dist = euclidean_distances([matrix[0]], [matrix[1]])\n",
        "\n",
        "    return euclidean_dist[0][0]\n",
        "\n",
        "def process_resume_in_folder(resume_folder, job_description, output_folder):\n",
        "    if not os.path.exists(output_folder):\n",
        "        os.makedirs(output_folder)\n",
        "\n",
        "    for filename in os.listdir(resume_folder):\n",
        "        if filename.endswith(\".txt\"):  # Assuming resumes are in text files\n",
        "            resume_path = os.path.join(resume_folder, filename)\n",
        "            with open(resume_path, 'r', encoding='utf-8') as resume_file:\n",
        "                resume_text = resume_file.read()\n",
        "\n",
        "            resume_score = calculate_euclidean_distance(job_description, resume_text)\n",
        "\n",
        "            # Specify the threshold for selecting resumes\n",
        "            threshold = 100  # Adjust as needed\n",
        "\n",
        "            if resume_score <= threshold:\n",
        "                selected_resume_path = os.path.join(output_folder, filename.replace(\".txt\", f\"_score_{resume_score:.2f}.txt\"))\n",
        "                with open(selected_resume_path, 'w', encoding='utf-8') as output_file:\n",
        "                    output_file.write(f\"Resume Score: {resume_score:.2f}\\n\\n\")\n",
        "                    output_file.write(resume_text)\n",
        "\n",
        "    print(\"Resumes processed and selected ones saved in:\", output_folder)\n",
        "\n",
        "# Specify paths and job description\n",
        "resume_folder_path = \"path/to/resumes/folder\"\n",
        "output_folder_path = \"path/to/output/folder\"\n",
        "job_description = \"Looking for a software engineer proficient in Python and machine learning\"\n",
        "\n",
        "# Process resumes in the specified folder\n",
        "process_resume_in_folder(resume_folder_path, job_description, output_folder_path)\n"
      ],
      "metadata": {
        "id": "oUxNlthqFuyN"
      },
      "execution_count": null,
      "outputs": []
    },
    {
      "cell_type": "markdown",
      "source": [
        "# TF-IDF"
      ],
      "metadata": {
        "id": "5_vTsV8nFzaS"
      }
    },
    {
      "cell_type": "code",
      "source": [
        "import os\n",
        "from sklearn.feature_extraction.text import TfidfVectorizer\n",
        "from sklearn.metrics.pairwise import cosine_similarity\n",
        "\n",
        "def calculate_tfidf_similarity(job_description, resume):\n",
        "    # Convert job description and resume into a list\n",
        "    documents = [job_description, resume]\n",
        "\n",
        "    # Initialize TfidfVectorizer to convert text into TF-IDF vectors\n",
        "    vectorizer = TfidfVectorizer()\n",
        "\n",
        "    # Fit and transform the documents into TF-IDF vectors\n",
        "    tfidf_matrix = vectorizer.fit_transform(documents)\n",
        "\n",
        "    # Compute cosine similarity between job description and resume based on TF-IDF\n",
        "    tfidf_sim = cosine_similarity(tfidf_matrix)\n",
        "\n",
        "    # Extract cosine similarity value for job description and resume\n",
        "    job_resume_similarity = tfidf_sim[0, 1]\n",
        "\n",
        "    return job_resume_similarity\n",
        "\n",
        "def process_resume_in_folder(resume_folder, job_description, output_folder):\n",
        "    if not os.path.exists(output_folder):\n",
        "        os.makedirs(output_folder)\n",
        "\n",
        "    for filename in os.listdir(resume_folder):\n",
        "        if filename.endswith(\".txt\"):  # Assuming resumes are in text files\n",
        "            resume_path = os.path.join(resume_folder, filename)\n",
        "            with open(resume_path, 'r', encoding='utf-8') as resume_file:\n",
        "                resume_text = resume_file.read()\n",
        "\n",
        "            resume_score = calculate_tfidf_similarity(job_description, resume_text)\n",
        "\n",
        "            # Specify the threshold for selecting resumes\n",
        "            threshold = 0.5  # Adjust as needed\n",
        "\n",
        "            if resume_score >= threshold:\n",
        "                selected_resume_path = os.path.join(output_folder, filename.replace(\".txt\", f\"_score_{resume_score:.2f}.txt\"))\n",
        "                with open(selected_resume_path, 'w', encoding='utf-8') as output_file:\n",
        "                    output_file.write(f\"Resume Score: {resume_score:.2f}\\n\\n\")\n",
        "                    output_file.write(resume_text)\n",
        "\n",
        "    print(\"Resumes processed and selected ones saved in:\", output_folder)\n",
        "\n",
        "# Specify paths and job description\n",
        "resume_folder_path = \"path/to/resumes/folder\"\n",
        "output_folder_path = \"path/to/output/folder\"\n",
        "job_description = \"Looking for a software engineer proficient in Python and machine learning\"\n",
        "\n",
        "# Process resumes in the specified folder\n",
        "process_resume_in_folder(resume_folder_path, job_description, output_folder_path)\n"
      ],
      "metadata": {
        "id": "KCg-FnwuF0y9"
      },
      "execution_count": null,
      "outputs": []
    }
  ]
}